{
 "cells": [
  {
   "cell_type": "markdown",
   "metadata": {},
   "source": [
    "# 將大量txt轉成工研院json檔"
   ]
  },
  {
   "cell_type": "code",
   "execution_count": 10,
   "metadata": {},
   "outputs": [
    {
     "name": "stdout",
     "output_type": "stream",
     "text": [
      "input path: gun_20201102\n",
      "output path: gun_20201102.json\n"
     ]
    }
   ],
   "source": [
    "import hashlib\n",
    "from collections import defaultdict\n",
    "import json\n",
    "import pandas as pd\n",
    "from pathlib import Path\n",
    "\n",
    "root_path = './gun_20201102'\n",
    "common_path = Path(root_path)\n",
    "print(\"input path:\", common_path)\n",
    "\n",
    "filename_pattern = '*/**/*.txt'\n",
    "save_path = Path(common_path).with_name(Path(common_path).stem).with_suffix(\".json\")\n",
    "print(\"output path:\", save_path)\n",
    "\n",
    "glob_path = Path(common_path)\n",
    "filepathes=glob_path.glob(filename_pattern)\n",
    "\n",
    "articles_dict = defaultdict(dict)\n",
    "\n",
    "for filepath in filepathes:\n",
    "    content_dict = {}\n",
    "    content_dict['Title'] = filepath.stem\n",
    "    content_dict['Content'] = ''\n",
    "    content_dict['Author'] = ''\n",
    "    content_dict['Time'] = ''\n",
    "\n",
    "    with open(filepath, 'r', encoding='utf-8') as f:\n",
    "        content_dict['Content'] = f.read()\n",
    "        text_id = hashlib.md5(content_dict['Content'].encode('utf-8')).hexdigest()[:10]\n",
    "\n",
    "    articles_dict['Articles'].update({text_id: content_dict})\n",
    "\n",
    "\n",
    "# read into dataframe will automatically sort by index\n",
    "dataframe = pd.DataFrame.from_dict(articles_dict)\n",
    "\n",
    "# because articles_dict['Articles'] use text_id as key to update,\n",
    "# if there were duplicate text_id, it'll replace by later items.\n",
    "# so no need to check duplicate.\n",
    "###\n",
    "# dataframe.reset_index(inplace=True)\n",
    "# dup_id = dataframe.duplicated(['index'], keep=False)\n",
    "# print(\"duplicated entries: {}\".format(len(dataframe[dup_id])))\n",
    "# print(dataframe[dup_id])\n",
    "\n",
    "# dataframe = dataframe.groupby(['index']).apply(lambda x: x.iloc[0])\n",
    "# print(\"keep first, drop duplicated!\")\n",
    "\n",
    "# dataframe.set_index('index', inplace=True)\n",
    "\n",
    "with open(save_path, 'w', encoding='utf-8') as outfile:\n",
    "    json.dump(dataframe.to_dict(), outfile, ensure_ascii=False, indent=4)"
   ]
  },
  {
   "cell_type": "code",
   "execution_count": null,
   "metadata": {},
   "outputs": [],
   "source": []
  },
  {
   "cell_type": "code",
   "execution_count": 11,
   "metadata": {},
   "outputs": [
    {
     "data": {
      "text/plain": [
       "19"
      ]
     },
     "execution_count": 11,
     "metadata": {},
     "output_type": "execute_result"
    }
   ],
   "source": [
    "len(articles_dict['Articles'])"
   ]
  },
  {
   "cell_type": "code",
   "execution_count": null,
   "metadata": {},
   "outputs": [],
   "source": []
  },
  {
   "cell_type": "markdown",
   "metadata": {},
   "source": [
    "### cmdline  "
   ]
  },
  {
   "cell_type": "code",
   "execution_count": 17,
   "metadata": {},
   "outputs": [
    {
     "name": "stdout",
     "output_type": "stream",
     "text": [
      "input path: gun_20201102\r\n",
      "output path: gun_20201102.json\r\n"
     ]
    }
   ],
   "source": [
    "!python ../AI_Clerk_helper.py original -d ./gun_20201102"
   ]
  },
  {
   "cell_type": "code",
   "execution_count": null,
   "metadata": {},
   "outputs": [],
   "source": []
  },
  {
   "cell_type": "code",
   "execution_count": null,
   "metadata": {},
   "outputs": [],
   "source": []
  },
  {
   "cell_type": "code",
   "execution_count": null,
   "metadata": {},
   "outputs": [],
   "source": []
  },
  {
   "cell_type": "code",
   "execution_count": null,
   "metadata": {},
   "outputs": [],
   "source": []
  },
  {
   "cell_type": "code",
   "execution_count": null,
   "metadata": {},
   "outputs": [],
   "source": []
  },
  {
   "cell_type": "code",
   "execution_count": null,
   "metadata": {},
   "outputs": [],
   "source": []
  }
 ],
 "metadata": {
  "kernelspec": {
   "display_name": "Python 3.6.9 64-bit ('base': conda)",
   "language": "python",
   "name": "python36964bitbaseconda65f1dfd54f564d2a9827f85036192745"
  },
  "language_info": {
   "codemirror_mode": {
    "name": "ipython",
    "version": 3
   },
   "file_extension": ".py",
   "mimetype": "text/x-python",
   "name": "python",
   "nbconvert_exporter": "python",
   "pygments_lexer": "ipython3",
   "version": "3.6.9"
  }
 },
 "nbformat": 4,
 "nbformat_minor": 2
}
