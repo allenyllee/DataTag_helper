{
 "cells": [
  {
   "cell_type": "markdown",
   "metadata": {},
   "source": [
    "# 將大量txt轉成工研院json檔"
   ]
  },
  {
   "cell_type": "code",
   "execution_count": 14,
   "metadata": {},
   "outputs": [
    {
     "name": "stdout",
     "output_type": "stream",
     "text": [
      "input path: ../tests/input_data/gun_20201102\n",
      "output path: ../tests/input_data/gun_20201102.json\n",
      "[PosixPath('../tests/input_data/gun_20201102/01.槍砲彈藥刀械管制條例第11條第4項/106/TND,105,訴,829,20170125,1.docx'), PosixPath('../tests/input_data/gun_20201102/01.槍砲彈藥刀械管制條例第11條第4項/106/TND,105,訴,829,20170125,1.txt'), PosixPath('../tests/input_data/gun_20201102/02.槍砲彈藥刀械管制條例第12條第1項/105/CHD,104,審訴,886,20160224,1.txt'), PosixPath('../tests/input_data/gun_20201102/02.槍砲彈藥刀械管制條例第12條第1項/105/ILD,105,訴,12,20160323,1.txt'), PosixPath('../tests/input_data/gun_20201102/02.槍砲彈藥刀械管制條例第12條第1項/105/MLD,105,訴,78,20160524,4.txt'), PosixPath('../tests/input_data/gun_20201102/02.槍砲彈藥刀械管制條例第12條第1項/105/PTD,105,審原訴,6,20161208,1.txt'), PosixPath('../tests/input_data/gun_20201102/02.槍砲彈藥刀械管制條例第12條第1項/105/SCD,105,審訴,91,20160401,1.txt'), PosixPath('../tests/input_data/gun_20201102/02.槍砲彈藥刀械管制條例第12條第1項/105/SCD,105,審訴,202,20160705,1.txt'), PosixPath('../tests/input_data/gun_20201102/02.槍砲彈藥刀械管制條例第12條第1項/105/TPD,105,審訴,735,20161012,1.txt'), PosixPath('../tests/input_data/gun_20201102/02.槍砲彈藥刀械管制條例第12條第1項/105/TYD,105,矚簡,2,20160118,1.txt'), PosixPath('../tests/input_data/gun_20201102/02.槍砲彈藥刀械管制條例第12條第1項/106/ULD,106,訴,266,20170621,1.txt'), PosixPath('../tests/input_data/gun_20201102/02.槍砲彈藥刀械管制條例第12條第1項/107/CTD,107,審訴,585,20180816,1.txt'), PosixPath('../tests/input_data/gun_20201102/02.槍砲彈藥刀械管制條例第12條第1項/107/NTD,107,審訴,178,20180828,2.txt'), PosixPath('../tests/input_data/gun_20201102/02.槍砲彈藥刀械管制條例第12條第1項/107/TYD,105,審訴,1754,20180112,2.txt'), PosixPath('../tests/input_data/gun_20201102/02.槍砲彈藥刀械管制條例第12條第1項/107/ULD,107,訴,847,20181227,1.txt'), PosixPath('../tests/input_data/gun_20201102/02.槍砲彈藥刀械管制條例第12條第1項/108/KSD,108,簡,4082,20191212,1.txt'), PosixPath('../tests/input_data/gun_20201102/02.槍砲彈藥刀械管制條例第12條第1項/108/TPD,108,審訴,74,20190227,1.txt'), PosixPath('../tests/input_data/gun_20201102/02.槍砲彈藥刀械管制條例第12條第1項/109/CYD,109,訴,107,20200331,1.txt'), PosixPath('../tests/input_data/gun_20201102/02.槍砲彈藥刀械管制條例第12條第1項/109/ILD,108,訴,353,20200214,1.txt'), PosixPath('../tests/input_data/gun_20201102/02.槍砲彈藥刀械管制條例第12條第1項/109/PCD,109,訴,62,20200226,1.txt')]\n",
      "['8203427d91', 'a3fe5736e3', 'e3d30accc0', 'c862c8e0bf', '1be854a1c8', '352e69635c', '8c2cea59fc', 'fc1009e3a3', '62eb5c8462', 'd95633ce9c', '2aad5f3d1c', 'd7c0d01dca', '71b1606fd1', '84c3fc2ffe', '1697612039', 'a6efb4e5e5', '21a34161b9', '670a4a1c5a', 'e5c560ba5d', '954b909634']\n",
      "                                                     Articles\n",
      "8203427d91  {'Title': '01.槍砲彈藥刀械管制條例第11條第4項/106/TND,105,訴,...\n",
      "a3fe5736e3  {'Title': '01.槍砲彈藥刀械管制條例第11條第4項/106/TND,105,訴,...\n",
      "e3d30accc0  {'Title': '02.槍砲彈藥刀械管制條例第12條第1項/105/CHD,104,審訴...\n",
      "c862c8e0bf  {'Title': '02.槍砲彈藥刀械管制條例第12條第1項/105/ILD,105,訴,...\n",
      "1be854a1c8  {'Title': '02.槍砲彈藥刀械管制條例第12條第1項/105/MLD,105,訴,...\n",
      "352e69635c  {'Title': '02.槍砲彈藥刀械管制條例第12條第1項/105/PTD,105,審原...\n",
      "8c2cea59fc  {'Title': '02.槍砲彈藥刀械管制條例第12條第1項/105/SCD,105,審訴...\n",
      "fc1009e3a3  {'Title': '02.槍砲彈藥刀械管制條例第12條第1項/105/SCD,105,審訴...\n",
      "62eb5c8462  {'Title': '02.槍砲彈藥刀械管制條例第12條第1項/105/TPD,105,審訴...\n",
      "d95633ce9c  {'Title': '02.槍砲彈藥刀械管制條例第12條第1項/105/TYD,105,矚簡...\n",
      "2aad5f3d1c  {'Title': '02.槍砲彈藥刀械管制條例第12條第1項/106/ULD,106,訴,...\n",
      "d7c0d01dca  {'Title': '02.槍砲彈藥刀械管制條例第12條第1項/107/CTD,107,審訴...\n",
      "71b1606fd1  {'Title': '02.槍砲彈藥刀械管制條例第12條第1項/107/NTD,107,審訴...\n",
      "84c3fc2ffe  {'Title': '02.槍砲彈藥刀械管制條例第12條第1項/107/TYD,105,審訴...\n",
      "1697612039  {'Title': '02.槍砲彈藥刀械管制條例第12條第1項/107/ULD,107,訴,...\n",
      "a6efb4e5e5  {'Title': '02.槍砲彈藥刀械管制條例第12條第1項/108/KSD,108,簡,...\n",
      "21a34161b9  {'Title': '02.槍砲彈藥刀械管制條例第12條第1項/108/TPD,108,審訴...\n",
      "670a4a1c5a  {'Title': '02.槍砲彈藥刀械管制條例第12條第1項/109/CYD,109,訴,...\n",
      "e5c560ba5d  {'Title': '02.槍砲彈藥刀械管制條例第12條第1項/109/ILD,108,訴,...\n",
      "954b909634  {'Title': '02.槍砲彈藥刀械管制條例第12條第1項/109/PCD,109,訴,...\n"
     ]
    }
   ],
   "source": [
    "import hashlib\n",
    "from collections import defaultdict\n",
    "import json\n",
    "import pandas as pd\n",
    "from pathlib import Path\n",
    "from docx import Document\n",
    "from natsort import natsorted\n",
    "from collections import OrderedDict\n",
    "\n",
    "root_path = '../tests/input_data/gun_20201102'\n",
    "common_path = Path(root_path)\n",
    "print(\"input path:\", common_path)\n",
    "\n",
    "\n",
    "save_path = Path(common_path).with_name(Path(common_path).stem).with_suffix(\".json\")\n",
    "print(\"output path:\", save_path)\n",
    "\n",
    "glob_path = Path(common_path)\n",
    "\n",
    "filename_pattern = '*/**/*.'\n",
    "ext_list = ['txt', 'docx']\n",
    "filepathes = []\n",
    "\n",
    "for ext in ext_list:\n",
    "    filename_pattern_ext = filename_pattern + ext\n",
    "    filepathes += glob_path.glob(filename_pattern_ext)\n",
    "\n",
    "filepathes = natsorted(filepathes, key=str)\n",
    "print(filepathes)\n",
    "\n",
    "articles_dict = OrderedDict()\n",
    "\n",
    "for filepath in filepathes:\n",
    "    content_dict = {}\n",
    "    content_dict['Title'] = str(filepath.relative_to(common_path))\n",
    "    content_dict['Content'] = ''\n",
    "    content_dict['Author'] = ''\n",
    "    content_dict['Time'] = ''\n",
    "\n",
    "    try:\n",
    "        # read .txt first\n",
    "        with open(filepath, 'r', encoding='utf-8') as f:\n",
    "            content_dict['Content'] = f.read()\n",
    "            text_id = hashlib.md5(content_dict['Content'].encode('utf-8')).hexdigest()[:10]\n",
    "    except:\n",
    "        try:\n",
    "            # read .docx\n",
    "            doc = Document(filepath)\n",
    "            finalText = []\n",
    "            for line in doc.paragraphs:\n",
    "                finalText.append(line.text)\n",
    "            content_dict['Content'] = '\\n'.join(finalText)\n",
    "            text_id = hashlib.md5(content_dict['Content'].encode('utf-8')).hexdigest()[:10]\n",
    "        except:\n",
    "            pass\n",
    "\n",
    "    try:\n",
    "        articles_dict['Articles'].update({text_id: content_dict})\n",
    "    except:\n",
    "        articles_dict['Articles'] = {}\n",
    "        articles_dict['Articles'].update({text_id: content_dict})\n",
    "\n",
    "print(list(articles_dict['Articles'].keys()))\n",
    "# read into dataframe will automatically sort by index\n",
    "dataframe = pd.DataFrame.from_dict(articles_dict).loc[list(articles_dict['Articles'].keys())]\n",
    "print(dataframe)\n",
    "\n",
    "# because articles_dict['Articles'] use text_id as key to update,\n",
    "# if there were duplicate text_id, it'll replace by later items.\n",
    "# so no need to check duplicate.\n",
    "###\n",
    "# dataframe.reset_index(inplace=True)\n",
    "# dup_id = dataframe.duplicated(['index'], keep=False)\n",
    "# print(\"duplicated entries: {}\".format(len(dataframe[dup_id])))\n",
    "# print(dataframe[dup_id])\n",
    "\n",
    "# dataframe = dataframe.groupby(['index']).apply(lambda x: x.iloc[0])\n",
    "# print(\"keep first, drop duplicated!\")\n",
    "\n",
    "# dataframe.set_index('index', inplace=True)\n",
    "\n",
    "with open(save_path, 'w', encoding='utf-8') as outfile:\n",
    "    json.dump(dataframe.to_dict(), outfile, ensure_ascii=False, indent=4)"
   ]
  },
  {
   "cell_type": "code",
   "execution_count": null,
   "metadata": {},
   "outputs": [],
   "source": []
  },
  {
   "cell_type": "code",
   "execution_count": 11,
   "metadata": {},
   "outputs": [
    {
     "data": {
      "text/plain": [
       "19"
      ]
     },
     "execution_count": 11,
     "metadata": {},
     "output_type": "execute_result"
    }
   ],
   "source": [
    "len(articles_dict['Articles'])"
   ]
  },
  {
   "cell_type": "code",
   "execution_count": null,
   "metadata": {},
   "outputs": [],
   "source": []
  },
  {
   "cell_type": "markdown",
   "metadata": {},
   "source": [
    "### cmdline  "
   ]
  },
  {
   "cell_type": "code",
   "execution_count": 16,
   "metadata": {},
   "outputs": [
    {
     "name": "stdout",
     "output_type": "stream",
     "text": [
      "input path: ../tests/input_data/gun_20201102\n",
      "output path: ../tests/input_data/gun_20201102.json\n"
     ]
    }
   ],
   "source": [
    "!python ../DataTag_helper.py original -d ../tests/input_data/gun_20201102"
   ]
  },
  {
   "cell_type": "code",
   "execution_count": null,
   "metadata": {},
   "outputs": [],
   "source": []
  },
  {
   "cell_type": "code",
   "execution_count": null,
   "metadata": {},
   "outputs": [],
   "source": []
  },
  {
   "cell_type": "code",
   "execution_count": null,
   "metadata": {},
   "outputs": [],
   "source": []
  },
  {
   "cell_type": "code",
   "execution_count": null,
   "metadata": {},
   "outputs": [],
   "source": []
  },
  {
   "cell_type": "code",
   "execution_count": null,
   "metadata": {},
   "outputs": [],
   "source": []
  },
  {
   "cell_type": "code",
   "execution_count": null,
   "metadata": {},
   "outputs": [],
   "source": []
  }
 ],
 "metadata": {
  "kernelspec": {
   "display_name": "DataTag_helper",
   "language": "python",
   "name": "python3"
  },
  "language_info": {
   "codemirror_mode": {
    "name": "ipython",
    "version": 3
   },
   "file_extension": ".py",
   "mimetype": "text/x-python",
   "name": "python",
   "nbconvert_exporter": "python",
   "pygments_lexer": "ipython3",
   "version": "3.6.15"
  },
  "vscode": {
   "interpreter": {
    "hash": "e9e96abcdf877071b0a832c576954f7410018c384b907e67b54c37bfcc7ed4ce"
   }
  }
 },
 "nbformat": 4,
 "nbformat_minor": 2
}
