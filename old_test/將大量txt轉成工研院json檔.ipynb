{
 "cells": [
  {
   "cell_type": "markdown",
   "metadata": {},
   "source": [
    "# 將大量txt轉成工研院json檔"
   ]
  },
  {
   "cell_type": "code",
   "execution_count": 4,
   "metadata": {},
   "outputs": [
    {
     "name": "stdout",
     "output_type": "stream",
     "text": [
      "input path: ../tests/input_data/gun_20201102\n",
      "output path: ../tests/input_data/gun_20201102.json\n",
      "[PosixPath('../tests/input_data/gun_20201102/01.槍砲彈藥刀械管制條例第11條第4項/106/TND,105,訴,829,20170125,1.docx'), PosixPath('../tests/input_data/gun_20201102/01.槍砲彈藥刀械管制條例第11條第4項/106/TND,105,訴,829,20170125,1.pdf'), PosixPath('../tests/input_data/gun_20201102/01.槍砲彈藥刀械管制條例第11條第4項/106/TND,105,訴,829,20170125,1.txt'), PosixPath('../tests/input_data/gun_20201102/02.槍砲彈藥刀械管制條例第12條第1項/105/CHD,104,審訴,886,20160224,1.txt'), PosixPath('../tests/input_data/gun_20201102/02.槍砲彈藥刀械管制條例第12條第1項/105/ILD,105,訴,12,20160323,1.txt'), PosixPath('../tests/input_data/gun_20201102/02.槍砲彈藥刀械管制條例第12條第1項/105/MLD,105,訴,78,20160524,4.txt'), PosixPath('../tests/input_data/gun_20201102/02.槍砲彈藥刀械管制條例第12條第1項/105/PTD,105,審原訴,6,20161208,1.txt'), PosixPath('../tests/input_data/gun_20201102/02.槍砲彈藥刀械管制條例第12條第1項/105/SCD,105,審訴,91,20160401,1.txt'), PosixPath('../tests/input_data/gun_20201102/02.槍砲彈藥刀械管制條例第12條第1項/105/SCD,105,審訴,202,20160705,1.txt'), PosixPath('../tests/input_data/gun_20201102/02.槍砲彈藥刀械管制條例第12條第1項/105/TPD,105,審訴,735,20161012,1.txt'), PosixPath('../tests/input_data/gun_20201102/02.槍砲彈藥刀械管制條例第12條第1項/105/TYD,105,矚簡,2,20160118,1.txt'), PosixPath('../tests/input_data/gun_20201102/02.槍砲彈藥刀械管制條例第12條第1項/106/ULD,106,訴,266,20170621,1.txt'), PosixPath('../tests/input_data/gun_20201102/02.槍砲彈藥刀械管制條例第12條第1項/107/CTD,107,審訴,585,20180816,1.txt'), PosixPath('../tests/input_data/gun_20201102/02.槍砲彈藥刀械管制條例第12條第1項/107/NTD,107,審訴,178,20180828,2.txt'), PosixPath('../tests/input_data/gun_20201102/02.槍砲彈藥刀械管制條例第12條第1項/107/TYD,105,審訴,1754,20180112,2.txt'), PosixPath('../tests/input_data/gun_20201102/02.槍砲彈藥刀械管制條例第12條第1項/107/ULD,107,訴,847,20181227,1.txt'), PosixPath('../tests/input_data/gun_20201102/02.槍砲彈藥刀械管制條例第12條第1項/108/KSD,108,簡,4082,20191212,1.txt'), PosixPath('../tests/input_data/gun_20201102/02.槍砲彈藥刀械管制條例第12條第1項/108/TPD,108,審訴,74,20190227,1.txt'), PosixPath('../tests/input_data/gun_20201102/02.槍砲彈藥刀械管制條例第12條第1項/109/CYD,109,訴,107,20200331,1.txt'), PosixPath('../tests/input_data/gun_20201102/02.槍砲彈藥刀械管制條例第12條第1項/109/ILD,108,訴,353,20200214,1.txt'), PosixPath('../tests/input_data/gun_20201102/02.槍砲彈藥刀械管制條例第12條第1項/109/PCD,109,訴,62,20200226,1.txt')]\n",
      "臺灣臺南地方法院刑事判決              105 年度訴字第829 號 \n",
      "公  訴  人  臺灣臺南地方法院檢察署檢察官 \n",
      "被      告  袁錦文 \n",
      "上列被告因違反槍砲彈藥刀械管制條例案件，經檢察官提起公訴 \n",
      "（105 年度偵字第17224 號），被告於本院準備程序進行中，先就 \n",
      "被訴事實為有罪之陳述，經本院合議庭裁定由受命法官獨任進行 \n",
      "簡式審判程序，判決如下： \n",
      "        主    文 \n",
      "袁錦文未經許可，持有可發射子彈具有殺傷力之改造手槍，處有 \n",
      "期徒刑壹年貳月，併科罰金新臺幣貳萬元，罰金如易服勞役以新 \n",
      "臺幣壹仟元折算壹日，減為有期徒刑柒月，併科罰金新臺幣壹萬 \n",
      "元，罰金如易服勞役以新臺幣壹仟元折算壹日。扣案之可發射子 \n",
      "彈具有殺傷力之改造手槍壹枝（含彈匣壹個，槍枝管制編號：11 \n",
      "02150597 號）沒收。 \n",
      "        事實及理由 \n",
      "一、本件犯罪事實及證據，除補充被告袁錦文購入系爭改造手槍 \n",
      "        地點為臺南市永康區「二王墳墓場」，另更正本案系爭改造 \n",
      "        手槍遭查獲時間、地點為「民國 92 年6月 11 日晚間7 時50 分許 \n",
      "        」、「臺南市東區中華東路二段 7 巷13 弄22 號管理室門口袁 \n",
      "        錦文身上」；證據欄補充被告於警詢及本院審理時所為自白 \n",
      "        ，及搜索扣押筆錄、扣押物品目錄表、扣押物品收據各 1 件 \n",
      "        、扣押物品照片 4 張與贓證物清單、扣押物品清單各 1 紙外， \n",
      "        餘均引用檢察官起訴書之記載（如附件）。 \n",
      "二、新舊法之比較： \n",
      "(一)按被告行為後，槍砲彈藥刀械管制條例於 94 年1 月26 日修正 \n",
      "        公布部分條文，並於同年月 28 日生效。修正前槍砲條例第 \n",
      "        11 條第4 項規定：「未經許可，持有、寄藏或意圖販賣而陳 \n",
      "        列第 1 項所列槍砲者，處一年以上七年以下有期徒刑，併科 \n",
      "        新臺幣七百萬元以下罰金」，而修正後槍砲條例則刪除原第 \n",
      "        11 條規定，並於同條例第 8 條第1 項至第 5 項所列槍枝種類增 \n",
      "        列同條例第 4 條第 1 項第1 款所定其他可發射金屬或子彈具有 \n",
      "        殺傷力之各式槍砲，修正第 8 條第4 項為：「未經許可，持有 \n",
      "        、寄藏或意圖販賣而陳列第一項所列槍枝者，處三年以上十 \n",
      "        年以下有期徒刑，併科新臺幣七百萬元以下罰金」。經比較 \n",
      "        新舊法後，顯以修正前槍砲條例第 11 條第 4 項刑度較輕，較 \n",
      "        有利於被告。 \n",
      "(二)被告行為後，刑法部分條文業於 95 年7月 1 日公布施行，有關 \n",
      "        刑法第 33 條第5款關於罰金刑之規定，由「罰金：1 元以上」 \n",
      "        ，修正為「罰金：新臺幣 1000 元以上，以百元計算之」，本 \n",
      "        案關於罰金刑部分，經比較新、舊法結果，應適用修正前刑 \n",
      "        法第 33 條第5 款之規定較有利於被告。 \n",
      "(三)又被告行為後，刑法第 42 條第2、3 項關於易服勞役之折算標 \n",
      "        準及期限已有修正，因屬科刑規範事項之變更，其折算標準 \n",
      "        為裁判時所應諭知，自有就新舊法規定比較之必要，然因新 \n",
      "        舊刑法對易服勞役之折算標準，及易服勞役期限，規定各有 \n",
      "        不同，利與不利之情形互見，應就新舊法之規定綜合比較， \n",
      "        以決定適用最有利於行為人之法律。本件經比較新舊法結果 \n",
      "        ，應適用修正後刑法第  42 條第 3 項之規定較有利於被告。而 \n",
      "        定易科罰金及易服勞役之折算標準，係屬科刑規範事項，非 \n",
      "        屬最高法院 95 年5 月23 日95 年第8 次刑庭會議決議第一、(四) \n",
      "        則所定，比較新舊法應就罪刑有關之共犯、未遂犯、想像競 \n",
      "        合犯、牽連犯、連續犯、結合犯，以及累犯加重、自首減輕 \n",
      "        暨其他法定加減原因（如身分加減）與加減例等一切情形， \n",
      "        綜其全部罪刑之結果而為比較之情形，其既非屬法律適用之 \n",
      "        情形，即無與之綜合比較之適用，附此敘明。 \n",
      "三、核被告所為，係犯修正前槍砲彈藥刀械管制條例第 11 條第4 \n",
      "        項之未經許可持有可發射子彈具有殺傷力之改造手槍罪。爰 \n",
      "        審酌被告犯罪之動機及目的、持有前揭具殺傷力之改造手槍 \n",
      "        對於社會治安之危害，兼衡其犯後坦承犯行，態度良好，及 \n",
      "        其於本院審理時自述教育程度為高職肄業、未婚尚無子女、 \n",
      "        入監前無業無收入之智識程度、生活狀況，及其素行等一切 \n",
      "        情狀，量處有期徒刑 1 年2 月，併科罰金新臺幣 2 萬元，並就 \n",
      "        罰金部分諭知易服勞役之折算標準。 \n",
      "四、又被告犯罪後，中華民國九十六年罪犯減刑條例業經總統於 \n",
      "        96 年7 月4 日公布，並自同年月 16 日起生效施行，核本案被告 \n",
      "        之犯罪時間係在 96 年4 月24 日以前，合於該條例所列之減刑 \n",
      "        要件，爰依該條例第 2 條第 1 項第3 款規定，減其宣告刑 2 分之 \n",
      "        1。 \n",
      "五、扣案之改造手槍 1 枝（含彈匣 1 個，槍枝管制編號：11021505 \n",
      "        97 號），為違禁物，應依刑法第 38 條第1 項規定宣告沒收。 \n",
      "據上論斷，應依刑事訴訟法第 273 條之1 第1項、第299 條第1 項前 \n",
      "段、第310 條之2、第454 條第2 項，修正前槍砲彈藥刀械管制條例 \n",
      "第11 條第4 項，刑法第 11 條前段、第2 條第 1 項、第42 條第3項、第 \n",
      "38 條第1 項，中華民國九十六年罪犯減刑條例第 2 條第1 項第3 款、 \n",
      "第7 條，判決如主文。 \n",
      "本案經檢察官黃麗文到庭執行職務 \n",
      "中        華        民        國      106        年        1          月        25        日 \n",
      "                                    刑事第十二庭    法    官    許嘉容 \n",
      "以上正本證明與原本無異。 \n",
      "如不服本判決應於收受本判決後 10 日內向本院提出上訴書狀，並 \n",
      "應敘述具體理由。其未敘述上訴理由者，應於上訴期間屆滿後 20 \n",
      "日內向本院補提理由書狀（均須按他造當事人之人數附繕本）「 \n",
      "切勿逕送上級法院」。 \n",
      "                                                                書記官    陳鈺翰 \n",
      "中        華        民        國      106        年        1          月        25        日 \n",
      "附錄本案論罪科刑法條： \n",
      "修正前槍砲彈藥刀械管制條例第 11 條第4 項 \n",
      "未經許可，持有、寄藏或意圖販賣而陳列第一項所列槍砲者，處 \n",
      "一年以上七年以下有期徒刑，併科新臺幣七百萬元以下罰金。 \n",
      "['8203427d91', '7787580a8f', 'a3fe5736e3', 'e3d30accc0', 'c862c8e0bf', '1be854a1c8', '352e69635c', '8c2cea59fc', 'fc1009e3a3', '62eb5c8462', 'd95633ce9c', '2aad5f3d1c', 'd7c0d01dca', '71b1606fd1', '84c3fc2ffe', '1697612039', 'a6efb4e5e5', '21a34161b9', '670a4a1c5a', 'e5c560ba5d', '954b909634']\n",
      "                                                     Articles\n",
      "8203427d91  {'Title': '01.槍砲彈藥刀械管制條例第11條第4項/106/TND,105,訴,...\n",
      "7787580a8f  {'Title': '01.槍砲彈藥刀械管制條例第11條第4項/106/TND,105,訴,...\n",
      "a3fe5736e3  {'Title': '01.槍砲彈藥刀械管制條例第11條第4項/106/TND,105,訴,...\n",
      "e3d30accc0  {'Title': '02.槍砲彈藥刀械管制條例第12條第1項/105/CHD,104,審訴...\n",
      "c862c8e0bf  {'Title': '02.槍砲彈藥刀械管制條例第12條第1項/105/ILD,105,訴,...\n",
      "1be854a1c8  {'Title': '02.槍砲彈藥刀械管制條例第12條第1項/105/MLD,105,訴,...\n",
      "352e69635c  {'Title': '02.槍砲彈藥刀械管制條例第12條第1項/105/PTD,105,審原...\n",
      "8c2cea59fc  {'Title': '02.槍砲彈藥刀械管制條例第12條第1項/105/SCD,105,審訴...\n",
      "fc1009e3a3  {'Title': '02.槍砲彈藥刀械管制條例第12條第1項/105/SCD,105,審訴...\n",
      "62eb5c8462  {'Title': '02.槍砲彈藥刀械管制條例第12條第1項/105/TPD,105,審訴...\n",
      "d95633ce9c  {'Title': '02.槍砲彈藥刀械管制條例第12條第1項/105/TYD,105,矚簡...\n",
      "2aad5f3d1c  {'Title': '02.槍砲彈藥刀械管制條例第12條第1項/106/ULD,106,訴,...\n",
      "d7c0d01dca  {'Title': '02.槍砲彈藥刀械管制條例第12條第1項/107/CTD,107,審訴...\n",
      "71b1606fd1  {'Title': '02.槍砲彈藥刀械管制條例第12條第1項/107/NTD,107,審訴...\n",
      "84c3fc2ffe  {'Title': '02.槍砲彈藥刀械管制條例第12條第1項/107/TYD,105,審訴...\n",
      "1697612039  {'Title': '02.槍砲彈藥刀械管制條例第12條第1項/107/ULD,107,訴,...\n",
      "a6efb4e5e5  {'Title': '02.槍砲彈藥刀械管制條例第12條第1項/108/KSD,108,簡,...\n",
      "21a34161b9  {'Title': '02.槍砲彈藥刀械管制條例第12條第1項/108/TPD,108,審訴...\n",
      "670a4a1c5a  {'Title': '02.槍砲彈藥刀械管制條例第12條第1項/109/CYD,109,訴,...\n",
      "e5c560ba5d  {'Title': '02.槍砲彈藥刀械管制條例第12條第1項/109/ILD,108,訴,...\n",
      "954b909634  {'Title': '02.槍砲彈藥刀械管制條例第12條第1項/109/PCD,109,訴,...\n"
     ]
    }
   ],
   "source": [
    "import hashlib\n",
    "from collections import defaultdict\n",
    "import json\n",
    "import pandas as pd\n",
    "from pathlib import Path\n",
    "from docx import Document\n",
    "from natsort import natsorted\n",
    "from collections import OrderedDict\n",
    "import pdfplumber\n",
    "\n",
    "root_path = '../tests/input_data/gun_20201102'\n",
    "common_path = Path(root_path)\n",
    "print(\"input path:\", common_path)\n",
    "\n",
    "\n",
    "save_path = Path(common_path).with_name(Path(common_path).stem).with_suffix(\".json\")\n",
    "print(\"output path:\", save_path)\n",
    "\n",
    "glob_path = Path(common_path)\n",
    "\n",
    "filename_pattern = '*/**/*.'\n",
    "ext_list = ['txt', 'docx', 'pdf']\n",
    "filepathes = []\n",
    "\n",
    "for ext in ext_list:\n",
    "    filename_pattern_ext = filename_pattern + ext\n",
    "    filepathes += glob_path.glob(filename_pattern_ext)\n",
    "\n",
    "filepathes = natsorted(filepathes, key=str)\n",
    "print(filepathes)\n",
    "\n",
    "articles_dict = OrderedDict()\n",
    "\n",
    "for filepath in filepathes:\n",
    "    content_dict = {}\n",
    "    content_dict['Title'] = str(filepath.relative_to(common_path))\n",
    "    content_dict['Content'] = ''\n",
    "    content_dict['Author'] = ''\n",
    "    content_dict['Time'] = ''\n",
    "\n",
    "    try:\n",
    "        # read .txt first\n",
    "        with open(filepath, 'r', encoding='utf-8') as f:\n",
    "            content_dict['Content'] = f.read()\n",
    "            text_id = hashlib.md5(content_dict['Content'].encode('utf-8')).hexdigest()[:10]\n",
    "    except:\n",
    "        try:\n",
    "            # read .docx\n",
    "            doc = Document(filepath)\n",
    "            finalText = []\n",
    "            for line in doc.paragraphs:\n",
    "                finalText.append(line.text)\n",
    "            content_dict['Content'] = '\\n'.join(finalText)\n",
    "            text_id = hashlib.md5(content_dict['Content'].encode('utf-8')).hexdigest()[:10]\n",
    "        except:\n",
    "            try:\n",
    "                # read .pdf\n",
    "                finalText = []\n",
    "                with pdfplumber.open(filepath) as pdf:\n",
    "                    for page in pdf.pages:\n",
    "                        finalText.append(page.extract_text())\n",
    "                        # print(first_page.extract_text())\n",
    "                content_dict['Content'] = '\\n'.join(finalText)\n",
    "                print(content_dict['Content'])\n",
    "                text_id = hashlib.md5(content_dict['Content'].encode('utf-8')).hexdigest()[:10]\n",
    "            except:\n",
    "                pass\n",
    "\n",
    "    try:\n",
    "        articles_dict['Articles'].update({text_id: content_dict})\n",
    "    except:\n",
    "        articles_dict['Articles'] = {}\n",
    "        articles_dict['Articles'].update({text_id: content_dict})\n",
    "\n",
    "print(list(articles_dict['Articles'].keys()))\n",
    "# read into dataframe will automatically sort by index\n",
    "dataframe = pd.DataFrame.from_dict(articles_dict).loc[list(articles_dict['Articles'].keys())]\n",
    "print(dataframe)\n",
    "\n",
    "# because articles_dict['Articles'] use text_id as key to update,\n",
    "# if there were duplicate text_id, it'll replace by later items.\n",
    "# so no need to check duplicate.\n",
    "###\n",
    "# dataframe.reset_index(inplace=True)\n",
    "# dup_id = dataframe.duplicated(['index'], keep=False)\n",
    "# print(\"duplicated entries: {}\".format(len(dataframe[dup_id])))\n",
    "# print(dataframe[dup_id])\n",
    "\n",
    "# dataframe = dataframe.groupby(['index']).apply(lambda x: x.iloc[0])\n",
    "# print(\"keep first, drop duplicated!\")\n",
    "\n",
    "# dataframe.set_index('index', inplace=True)\n",
    "\n",
    "with open(save_path, 'w', encoding='utf-8') as outfile:\n",
    "    json.dump(dataframe.to_dict(), outfile, ensure_ascii=False, indent=4)"
   ]
  },
  {
   "cell_type": "code",
   "execution_count": null,
   "metadata": {},
   "outputs": [],
   "source": []
  },
  {
   "cell_type": "code",
   "execution_count": 11,
   "metadata": {},
   "outputs": [
    {
     "data": {
      "text/plain": [
       "19"
      ]
     },
     "execution_count": 11,
     "metadata": {},
     "output_type": "execute_result"
    }
   ],
   "source": [
    "len(articles_dict['Articles'])"
   ]
  },
  {
   "cell_type": "code",
   "execution_count": null,
   "metadata": {},
   "outputs": [],
   "source": []
  },
  {
   "cell_type": "markdown",
   "metadata": {},
   "source": [
    "### cmdline  "
   ]
  },
  {
   "cell_type": "code",
   "execution_count": 9,
   "metadata": {},
   "outputs": [
    {
     "name": "stdout",
     "output_type": "stream",
     "text": [
      "/opt/conda/envs/DataTag_helper/lib/python3.6/site-packages/pdfminer/pdfdocument.py:8: CryptographyDeprecationWarning: Python 3.6 is no longer supported by the Python core team. Therefore, support for it is deprecated in cryptography. The next release of cryptography (40.0) will be the last to support Python 3.6.\n",
      "  from cryptography.hazmat.backends import default_backend\n",
      "input path: ../tests/input_data/gun_20201102\n",
      "output path: ../tests/input_data/gun_20201102.json\n"
     ]
    }
   ],
   "source": [
    "!python ../DataTag_helper.py original -d ../tests/input_data/gun_20201102"
   ]
  },
  {
   "cell_type": "code",
   "execution_count": null,
   "metadata": {},
   "outputs": [],
   "source": []
  },
  {
   "cell_type": "code",
   "execution_count": null,
   "metadata": {},
   "outputs": [],
   "source": []
  },
  {
   "cell_type": "code",
   "execution_count": null,
   "metadata": {},
   "outputs": [],
   "source": []
  },
  {
   "cell_type": "code",
   "execution_count": null,
   "metadata": {},
   "outputs": [],
   "source": []
  },
  {
   "cell_type": "code",
   "execution_count": null,
   "metadata": {},
   "outputs": [],
   "source": []
  },
  {
   "cell_type": "code",
   "execution_count": null,
   "metadata": {},
   "outputs": [],
   "source": []
  }
 ],
 "metadata": {
  "kernelspec": {
   "display_name": "DataTag_helper",
   "language": "python",
   "name": "python3"
  },
  "language_info": {
   "codemirror_mode": {
    "name": "ipython",
    "version": 3
   },
   "file_extension": ".py",
   "mimetype": "text/x-python",
   "name": "python",
   "nbconvert_exporter": "python",
   "pygments_lexer": "ipython3",
   "version": "3.6.15"
  },
  "vscode": {
   "interpreter": {
    "hash": "e9e96abcdf877071b0a832c576954f7410018c384b907e67b54c37bfcc7ed4ce"
   }
  }
 },
 "nbformat": 4,
 "nbformat_minor": 2
}
